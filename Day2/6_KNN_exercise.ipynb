{
 "cells": [
  {
   "cell_type": "code",
   "execution_count": 58,
   "id": "3a68eb6b-2462-4614-a462-1a5c335dfdbf",
   "metadata": {},
   "outputs": [],
   "source": [
    "import pandas as pd\n",
    "from sklearn.preprocessing import LabelEncoder"
   ]
  },
  {
   "cell_type": "code",
   "execution_count": 59,
   "id": "ad2817b1-f1b9-4b39-86f4-9f5c56c6a552",
   "metadata": {},
   "outputs": [],
   "source": [
    "df = pd.read_csv('HR_comma_sep.csv')"
   ]
  },
  {
   "cell_type": "code",
   "execution_count": 132,
   "id": "a2c1fda0-585d-403e-bf6d-dc80fada95b4",
   "metadata": {},
   "outputs": [
    {
     "data": {
      "text/plain": [
       "(14995, 10)"
      ]
     },
     "execution_count": 132,
     "metadata": {},
     "output_type": "execute_result"
    }
   ],
   "source": [
    "df.shape"
   ]
  },
  {
   "cell_type": "code",
   "execution_count": 61,
   "id": "070d134d-f49f-4a54-bf38-bbd38e380786",
   "metadata": {},
   "outputs": [],
   "source": [
    "X = df.drop('left', axis=1)\n",
    "y = df['left']"
   ]
  },
  {
   "cell_type": "code",
   "execution_count": 62,
   "id": "2171d002-9a96-4973-9385-e0ed4bacef06",
   "metadata": {},
   "outputs": [],
   "source": [
    "# le = LabelEncoder()\n",
    "# X['Department'] = le.fit_transform(X['Department'])\n",
    "# X['salary'] = le.fit_transform(X['salary'])\n",
    "X_ohe = pd.get_dummies(X)\n"
   ]
  },
  {
   "cell_type": "code",
   "execution_count": 74,
   "id": "b903379f-461e-41b0-8471-91a64e65c7bd",
   "metadata": {},
   "outputs": [],
   "source": [
    "from sklearn.model_selection import train_test_split\n",
    "\n",
    "X_train,X_test,Y_train,Y_test = train_test_split(X_ohe,y,test_size=0.2,random_state=24, stratify=df['left'])"
   ]
  },
  {
   "cell_type": "code",
   "execution_count": 138,
   "id": "3a6eb69f-7ccc-4011-b610-4b75f32ea15c",
   "metadata": {},
   "outputs": [
    {
     "name": "stdout",
     "output_type": "stream",
     "text": [
      "Index of Maximun accuracy Score 2\n",
      "Best accuracy score 0.9696969696969697\n"
     ]
    },
    {
     "data": {
      "text/plain": [
       "[0.967369589345172,\n",
       " 0.9696969696969697,\n",
       " 0.9642619311875694,\n",
       " 0.9640350877192982,\n",
       " 0.9569462938304483,\n",
       " 0.961546912766425,\n",
       " 0.9583148558758315,\n",
       " 0.960529217199559,\n",
       " 0.960497114957834,\n",
       " 0.9640097151689114]"
      ]
     },
     "execution_count": 138,
     "metadata": {},
     "output_type": "execute_result"
    }
   ],
   "source": [
    "from sklearn.neighbors import KNeighborsClassifier\n",
    "from sklearn.metrics import accuracy_score\n",
    "import numpy as np\n",
    "\n",
    "n_neighbour = [1,2,3,4,5,6,7,8,9,10]\n",
    "scores = []\n",
    "\n",
    "for i in n_neighbour:\n",
    "    knn = KNeighborsClassifier(n_neighbors=i)\n",
    "    knn.fit(X_train, Y_train)\n",
    "    y_pred = knn.predict(X_test)\n",
    "    scores.append(f1_score(Y_test, y_pred, pos_label=0))\n",
    "\n",
    "\n",
    "i_max = np.argmax(scores)\n",
    "print('Index of Maximun accuracy Score', n_neighbour[i_max])\n",
    "print('Best accuracy score', scores[i_max])\n",
    "\n",
    "scores"
   ]
  },
  {
   "cell_type": "code",
   "execution_count": 139,
   "id": "6ff14bf9-f2b7-4add-8a26-9ee3fc4d81c5",
   "metadata": {},
   "outputs": [
    {
     "data": {
      "text/plain": [
       "<sklearn.metrics._plot.confusion_matrix.ConfusionMatrixDisplay at 0x202d144c650>"
      ]
     },
     "execution_count": 139,
     "metadata": {},
     "output_type": "execute_result"
    },
    {
     "data": {
      "image/png": "[encoded data removed]",
      "text/plain": [
       "<Figure size 640x480 with 2 Axes>"
      ]
     },
     "metadata": {},
     "output_type": "display_data"
    }
   ],
   "source": [
    "from sklearn.metrics import ConfusionMatrixDisplay, confusion_matrix, recall_score, precision_score,f1_score,classification_report\n",
    "\n",
    "cm = confusion_matrix(Y_test, y_pred)\n",
    "disp = ConfusionMatrixDisplay(cm, display_labels=['Not left', 'Left'])\n",
    "disp.plot()\n"
   ]
  },
  {
   "cell_type": "code",
   "execution_count": 140,
   "id": "9fa1c437-ca83-473e-84a1-1e4ed1f1ed31",
   "metadata": {},
   "outputs": [
    {
     "name": "stdout",
     "output_type": "stream",
     "text": [
      "0.9158485273492286\n",
      "0.9549431321084865\n"
     ]
    }
   ],
   "source": [
    "#Recall score\n",
    "print(recall_score(Y_test, y_pred, pos_label=1))   #Recall score for Left = 1\n",
    "print(recall_score(Y_test, y_pred, pos_label=0))   #Recall score for Left = 0"
   ]
  },
  {
   "cell_type": "code",
   "execution_count": 122,
   "id": "b67a5f6c-b4e4-4c34-9061-c32c9c9d889e",
   "metadata": {},
   "outputs": [
    {
     "name": "stdout",
     "output_type": "stream",
     "text": [
      "0.8637566137566137\n",
      "0.9732501114578689\n"
     ]
    }
   ],
   "source": [
    "#Precision Score\n",
    "print(precision_score(Y_test, y_pred, pos_label=1))   #Recall score for Left = 1\n",
    "print(precision_score(Y_test, y_pred, pos_label=0))  "
   ]
  },
  {
   "cell_type": "code",
   "execution_count": 127,
   "id": "0dc4b7e4-1aed-4f17-935a-8e98d8b65e7c",
   "metadata": {},
   "outputs": [
    {
     "name": "stdout",
     "output_type": "stream",
     "text": [
      "0.8890401633764465\n",
      "0.9640097151689114\n"
     ]
    }
   ],
   "source": [
    "# F1 Score\n",
    "print(f1_score(Y_test, y_pred, pos_label=1))  \n",
    "print(f1_score(Y_test, y_pred, pos_label=0)) "
   ]
  },
  {
   "cell_type": "code",
   "execution_count": 129,
   "id": "18d00576-ae6a-417f-91f6-59887b3be1d3",
   "metadata": {},
   "outputs": [
    {
     "name": "stdout",
     "output_type": "stream",
     "text": [
      "              precision    recall  f1-score   support\n",
      "\n",
      "           0       0.97      0.95      0.96      2286\n",
      "           1       0.86      0.92      0.89       713\n",
      "\n",
      "    accuracy                           0.95      2999\n",
      "   macro avg       0.92      0.94      0.93      2999\n",
      "weighted avg       0.95      0.95      0.95      2999\n",
      "\n"
     ]
    }
   ],
   "source": [
    "# Classification Report\n",
    "print(classification_report(Y_test, y_pred))  \n"
   ]
  },
  {
   "cell_type": "markdown",
   "id": "b0ce22a7-eca1-4b6a-b464-1020a17ec0b7",
   "metadata": {},
   "source": [
    "best k with criterion of f1-score (left)"
   ]
  },
  {
   "cell_type": "code",
   "execution_count": null,
   "id": "7fafd5d7-b216-4fe0-8a0a-8f76d56f0d58",
   "metadata": {},
   "outputs": [],
   "source": []
  }
 ],
 "metadata": {
  "kernelspec": {
   "display_name": "Python 3 (ipykernel)",
   "language": "python",
   "name": "python3"
  },
  "language_info": {
   "codemirror_mode": {
    "name": "ipython",
    "version": 3
   },
   "file_extension": ".py",
   "mimetype": "text/x-python",
   "name": "python",
   "nbconvert_exporter": "python",
   "pygments_lexer": "ipython3",
   "version": "3.12.4"
  }
 },
 "nbformat": 4,
 "nbformat_minor": 5
}
