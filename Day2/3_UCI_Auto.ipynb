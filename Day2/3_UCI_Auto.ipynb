{
 "cells": [
  {
   "cell_type": "code",
   "execution_count": 101,
   "id": "291e9526-86a4-4181-abdb-2cf101e735ba",
   "metadata": {},
   "outputs": [
    {
     "name": "stdout",
     "output_type": "stream",
     "text": [
      "{'uci_id': 9, 'name': 'Auto MPG', 'repository_url': 'https://archive.ics.uci.edu/dataset/9/auto+mpg', 'data_url': 'https://archive.ics.uci.edu/static/public/9/data.csv', 'abstract': 'Revised from CMU StatLib library, data concerns city-cycle fuel consumption', 'area': 'Other', 'tasks': ['Regression'], 'characteristics': ['Multivariate'], 'num_instances': 398, 'num_features': 7, 'feature_types': ['Real', 'Categorical', 'Integer'], 'demographics': [], 'target_col': ['mpg'], 'index_col': ['car_name'], 'has_missing_values': 'yes', 'missing_values_symbol': 'NaN', 'year_of_dataset_creation': 1993, 'last_updated': 'Thu Aug 10 2023', 'dataset_doi': '10.24432/C5859H', 'creators': ['R. Quinlan'], 'intro_paper': None, 'additional_info': {'summary': 'This dataset is a slightly modified version of the dataset provided in the StatLib library.  In line with the use by Ross Quinlan (1993) in predicting the attribute \"mpg\", 8 of the original instances were removed because they had unknown values for the \"mpg\" attribute.  The original dataset is available in the file \"auto-mpg.data-original\".\\r\\n\\r\\n\"The data concerns city-cycle fuel consumption in miles per gallon, to be predicted in terms of 3 multivalued discrete and 5 continuous attributes.\" (Quinlan, 1993)', 'purpose': None, 'funded_by': None, 'instances_represent': None, 'recommended_data_splits': None, 'sensitive_data': None, 'preprocessing_description': None, 'variable_info': '    1. mpg:           continuous\\r\\n    2. cylinders:     multi-valued discrete\\r\\n    3. displacement:  continuous\\r\\n    4. horsepower:    continuous\\r\\n    5. weight:        continuous\\r\\n    6. acceleration:  continuous\\r\\n    7. model year:    multi-valued discrete\\r\\n    8. origin:        multi-valued discrete\\r\\n    9. car name:      string (unique for each instance)', 'citation': None}}\n",
      "           name     role         type demographic description units  \\\n",
      "0  displacement  Feature   Continuous        None        None  None   \n",
      "1           mpg   Target   Continuous        None        None  None   \n",
      "2     cylinders  Feature      Integer        None        None  None   \n",
      "3    horsepower  Feature   Continuous        None        None  None   \n",
      "4        weight  Feature   Continuous        None        None  None   \n",
      "5  acceleration  Feature   Continuous        None        None  None   \n",
      "6    model_year  Feature      Integer        None        None  None   \n",
      "7        origin  Feature      Integer        None        None  None   \n",
      "8      car_name       ID  Categorical        None        None  None   \n",
      "\n",
      "  missing_values  \n",
      "0             no  \n",
      "1             no  \n",
      "2             no  \n",
      "3            yes  \n",
      "4             no  \n",
      "5             no  \n",
      "6             no  \n",
      "7             no  \n",
      "8             no  \n"
     ]
    },
    {
     "data": {
      "text/html": [
       "<div>\n",
       "<style scoped>\n",
       "    .dataframe tbody tr th:only-of-type {\n",
       "        vertical-align: middle;\n",
       "    }\n",
       "\n",
       "    .dataframe tbody tr th {\n",
       "        vertical-align: top;\n",
       "    }\n",
       "\n",
       "    .dataframe thead th {\n",
       "        text-align: right;\n",
       "    }\n",
       "</style>\n",
       "<table border=\"1\" class=\"dataframe\">\n",
       "  <thead>\n",
       "    <tr style=\"text-align: right;\">\n",
       "      <th></th>\n",
       "      <th>mpg</th>\n",
       "    </tr>\n",
       "  </thead>\n",
       "  <tbody>\n",
       "    <tr>\n",
       "      <th>0</th>\n",
       "      <td>18.0</td>\n",
       "    </tr>\n",
       "    <tr>\n",
       "      <th>1</th>\n",
       "      <td>15.0</td>\n",
       "    </tr>\n",
       "    <tr>\n",
       "      <th>2</th>\n",
       "      <td>18.0</td>\n",
       "    </tr>\n",
       "    <tr>\n",
       "      <th>3</th>\n",
       "      <td>16.0</td>\n",
       "    </tr>\n",
       "    <tr>\n",
       "      <th>4</th>\n",
       "      <td>17.0</td>\n",
       "    </tr>\n",
       "    <tr>\n",
       "      <th>...</th>\n",
       "      <td>...</td>\n",
       "    </tr>\n",
       "    <tr>\n",
       "      <th>393</th>\n",
       "      <td>27.0</td>\n",
       "    </tr>\n",
       "    <tr>\n",
       "      <th>394</th>\n",
       "      <td>44.0</td>\n",
       "    </tr>\n",
       "    <tr>\n",
       "      <th>395</th>\n",
       "      <td>32.0</td>\n",
       "    </tr>\n",
       "    <tr>\n",
       "      <th>396</th>\n",
       "      <td>28.0</td>\n",
       "    </tr>\n",
       "    <tr>\n",
       "      <th>397</th>\n",
       "      <td>31.0</td>\n",
       "    </tr>\n",
       "  </tbody>\n",
       "</table>\n",
       "<p>398 rows × 1 columns</p>\n",
       "</div>"
      ],
      "text/plain": [
       "      mpg\n",
       "0    18.0\n",
       "1    15.0\n",
       "2    18.0\n",
       "3    16.0\n",
       "4    17.0\n",
       "..    ...\n",
       "393  27.0\n",
       "394  44.0\n",
       "395  32.0\n",
       "396  28.0\n",
       "397  31.0\n",
       "\n",
       "[398 rows x 1 columns]"
      ]
     },
     "execution_count": 101,
     "metadata": {},
     "output_type": "execute_result"
    }
   ],
   "source": [
    "from ucimlrepo import fetch_ucirepo \n",
    "import numpy as np\n",
    "  \n",
    "# fetch dataset \n",
    "auto_mpg = fetch_ucirepo(id=9) \n",
    "  \n",
    "# data (as pandas dataframes) \n",
    "X = auto_mpg.data.features \n",
    "y = auto_mpg.data.targets \n",
    "\n",
    "# metadata \n",
    "print(auto_mpg.metadata) \n",
    "  \n",
    "# variable information \n",
    "print(auto_mpg.variables) \n",
    "y"
   ]
  },
  {
   "cell_type": "code",
   "execution_count": 81,
   "id": "f966ff73-5256-47f6-ab2d-0dad5abac763",
   "metadata": {},
   "outputs": [
    {
     "data": {
      "text/plain": [
       "mpg    0\n",
       "dtype: int64"
      ]
     },
     "execution_count": 81,
     "metadata": {},
     "output_type": "execute_result"
    }
   ],
   "source": [
    "y.isnull().sum()"
   ]
  },
  {
   "cell_type": "code",
   "execution_count": 82,
   "id": "500201b3-1d5a-48eb-aa46-e968d40c0afd",
   "metadata": {},
   "outputs": [],
   "source": [
    "from sklearn.impute import SimpleImputer\n",
    "import pandas as pd\n",
    "from sklearn.model_selection import train_test_split\n",
    "from sklearn.linear_model import ElasticNet\n",
    "from sklearn.metrics import r2_score"
   ]
  },
  {
   "cell_type": "code",
   "execution_count": 83,
   "id": "25bd008b-7979-4199-a69c-2f9046b0f47a",
   "metadata": {},
   "outputs": [],
   "source": [
    "imp = SimpleImputer(strategy='median').set_output(transform='pandas')\n",
    "impute_data = imp.fit_transform(X)\n"
   ]
  },
  {
   "cell_type": "code",
   "execution_count": 62,
   "id": "5d5c86ba-2649-4afa-a1fe-3dee301ac0f6",
   "metadata": {},
   "outputs": [
    {
     "data": {
      "text/html": [
       "<div>\n",
       "<style scoped>\n",
       "    .dataframe tbody tr th:only-of-type {\n",
       "        vertical-align: middle;\n",
       "    }\n",
       "\n",
       "    .dataframe tbody tr th {\n",
       "        vertical-align: top;\n",
       "    }\n",
       "\n",
       "    .dataframe thead th {\n",
       "        text-align: right;\n",
       "    }\n",
       "</style>\n",
       "<table border=\"1\" class=\"dataframe\">\n",
       "  <thead>\n",
       "    <tr style=\"text-align: right;\">\n",
       "      <th></th>\n",
       "      <th>displacement</th>\n",
       "      <th>cylinders</th>\n",
       "      <th>horsepower</th>\n",
       "      <th>weight</th>\n",
       "      <th>acceleration</th>\n",
       "      <th>model_year</th>\n",
       "      <th>origin</th>\n",
       "    </tr>\n",
       "  </thead>\n",
       "  <tbody>\n",
       "    <tr>\n",
       "      <th>displacement</th>\n",
       "      <td>1.000000</td>\n",
       "      <td>0.950721</td>\n",
       "      <td>0.895778</td>\n",
       "      <td>0.932824</td>\n",
       "      <td>-0.543684</td>\n",
       "      <td>-0.370164</td>\n",
       "      <td>-0.609409</td>\n",
       "    </tr>\n",
       "    <tr>\n",
       "      <th>cylinders</th>\n",
       "      <td>0.950721</td>\n",
       "      <td>1.000000</td>\n",
       "      <td>0.841284</td>\n",
       "      <td>0.896017</td>\n",
       "      <td>-0.505419</td>\n",
       "      <td>-0.348746</td>\n",
       "      <td>-0.562543</td>\n",
       "    </tr>\n",
       "    <tr>\n",
       "      <th>horsepower</th>\n",
       "      <td>0.895778</td>\n",
       "      <td>0.841284</td>\n",
       "      <td>1.000000</td>\n",
       "      <td>0.862442</td>\n",
       "      <td>-0.686590</td>\n",
       "      <td>-0.413733</td>\n",
       "      <td>-0.452096</td>\n",
       "    </tr>\n",
       "    <tr>\n",
       "      <th>weight</th>\n",
       "      <td>0.932824</td>\n",
       "      <td>0.896017</td>\n",
       "      <td>0.862442</td>\n",
       "      <td>1.000000</td>\n",
       "      <td>-0.417457</td>\n",
       "      <td>-0.306564</td>\n",
       "      <td>-0.581024</td>\n",
       "    </tr>\n",
       "    <tr>\n",
       "      <th>acceleration</th>\n",
       "      <td>-0.543684</td>\n",
       "      <td>-0.505419</td>\n",
       "      <td>-0.686590</td>\n",
       "      <td>-0.417457</td>\n",
       "      <td>1.000000</td>\n",
       "      <td>0.288137</td>\n",
       "      <td>0.205873</td>\n",
       "    </tr>\n",
       "    <tr>\n",
       "      <th>model_year</th>\n",
       "      <td>-0.370164</td>\n",
       "      <td>-0.348746</td>\n",
       "      <td>-0.413733</td>\n",
       "      <td>-0.306564</td>\n",
       "      <td>0.288137</td>\n",
       "      <td>1.000000</td>\n",
       "      <td>0.180662</td>\n",
       "    </tr>\n",
       "    <tr>\n",
       "      <th>origin</th>\n",
       "      <td>-0.609409</td>\n",
       "      <td>-0.562543</td>\n",
       "      <td>-0.452096</td>\n",
       "      <td>-0.581024</td>\n",
       "      <td>0.205873</td>\n",
       "      <td>0.180662</td>\n",
       "      <td>1.000000</td>\n",
       "    </tr>\n",
       "  </tbody>\n",
       "</table>\n",
       "</div>"
      ],
      "text/plain": [
       "              displacement  cylinders  horsepower    weight  acceleration  \\\n",
       "displacement      1.000000   0.950721    0.895778  0.932824     -0.543684   \n",
       "cylinders         0.950721   1.000000    0.841284  0.896017     -0.505419   \n",
       "horsepower        0.895778   0.841284    1.000000  0.862442     -0.686590   \n",
       "weight            0.932824   0.896017    0.862442  1.000000     -0.417457   \n",
       "acceleration     -0.543684  -0.505419   -0.686590 -0.417457      1.000000   \n",
       "model_year       -0.370164  -0.348746   -0.413733 -0.306564      0.288137   \n",
       "origin           -0.609409  -0.562543   -0.452096 -0.581024      0.205873   \n",
       "\n",
       "              model_year    origin  \n",
       "displacement   -0.370164 -0.609409  \n",
       "cylinders      -0.348746 -0.562543  \n",
       "horsepower     -0.413733 -0.452096  \n",
       "weight         -0.306564 -0.581024  \n",
       "acceleration    0.288137  0.205873  \n",
       "model_year      1.000000  0.180662  \n",
       "origin          0.180662  1.000000  "
      ]
     },
     "execution_count": 62,
     "metadata": {},
     "output_type": "execute_result"
    }
   ],
   "source": [
    "impute_data.corr()"
   ]
  },
  {
   "cell_type": "code",
   "execution_count": 105,
   "id": "9bc9f608-6a06-42c5-9425-4d08f279e186",
   "metadata": {},
   "outputs": [
    {
     "name": "stdout",
     "output_type": "stream",
     "text": [
      "      mpg\n",
      "0    18.0\n",
      "1    15.0\n",
      "2    18.0\n",
      "3    16.0\n",
      "4    17.0\n",
      "..    ...\n",
      "393  27.0\n",
      "394  44.0\n",
      "395  32.0\n",
      "396  28.0\n",
      "397  31.0\n",
      "\n",
      "[398 rows x 1 columns]\n",
      "          mpg\n",
      "90   2.564949\n",
      "54   3.583519\n",
      "6    2.708050\n",
      "146  3.367296\n",
      "125  3.044522\n",
      "..        ...\n",
      "129  3.465736\n",
      "145  3.496508\n",
      "343  3.691376\n",
      "192  3.135494\n",
      "387  3.663562\n",
      "\n",
      "[278 rows x 1 columns]\n"
     ]
    }
   ],
   "source": [
    "X_train, X_test, Y_train, Y_test = train_test_split(impute_data, y, test_size=0.3, random_state=24)\n",
    "\n",
    "#Applying ln(y+1) on  Y_train\n",
    "\n",
    "y_tr_ln = np.log1p(Y_train)\n",
    "print(y)\n",
    "print(y_tr_ln)"
   ]
  },
  {
   "cell_type": "code",
   "execution_count": 94,
   "id": "81f1a021-fc20-4d58-b208-9b12958f789d",
   "metadata": {},
   "outputs": [],
   "source": [
    "a = [0.01,0.1,0.5,1,2.5, 3,5]\n",
    "r = [0.001, 0.3, 0.5, 0.7 , 0.9]"
   ]
  },
  {
   "cell_type": "code",
   "execution_count": 96,
   "id": "a5c1143a-352a-4028-af21-2ed9c22b6df8",
   "metadata": {},
   "outputs": [],
   "source": [
    "scores= []\n",
    "\n",
    "for ele in a:\n",
    "    for l1 in r:\n",
    "        e1= ElasticNet(alpha=ele, l1_ratio=l1)\n",
    "        e1.fit(X_train,y_tr_ln)\n",
    "        y_pred = e1.predict(X_test)\n",
    "        y_pred = np.expm1(y_pred)\n",
    "        scores.append([ele, l1 , r2_score(Y_test, y_pred)])"
   ]
  },
  {
   "cell_type": "code",
   "execution_count": 98,
   "id": "c931a901-4cac-485d-b201-d789230afdf0",
   "metadata": {},
   "outputs": [
    {
     "data": {
      "text/plain": [
       "A     0.010000\n",
       "L1    0.900000\n",
       "r2    0.805634\n",
       "Name: 4, dtype: float64"
      ]
     },
     "execution_count": 98,
     "metadata": {},
     "output_type": "execute_result"
    }
   ],
   "source": [
    "df = pd.DataFrame(data = scores, columns= ['A', 'L1', 'r2'])\n",
    "df.sort_values('r2', ascending=False).iloc[0]"
   ]
  },
  {
   "cell_type": "raw",
   "id": "cbed96c1-eb61-4021-8754-22f396be4076",
   "metadata": {},
   "source": [
    "Mean strategy :\n",
    "A     0.100000\n",
    "L1    0.900000\n",
    "r2    0.763432\n",
    "\n",
    "\n",
    "\n",
    "Median strategy :\n",
    "A     0.100000\n",
    "L1    0.900000\n",
    "r2    0.763377"
   ]
  },
  {
   "cell_type": "markdown",
   "id": "f75e0e5c-4662-413f-a0ae-881aa882d759",
   "metadata": {},
   "source": [
    "# Iterative Imputer"
   ]
  },
  {
   "cell_type": "code",
   "execution_count": 70,
   "id": "f1e6e432-3355-4b3c-a75d-e99e0cb83be2",
   "metadata": {},
   "outputs": [],
   "source": [
    "from sklearn.experimental import enable_iterative_imputer\n",
    "from sklearn.impute import IterativeImputer"
   ]
  },
  {
   "cell_type": "code",
   "execution_count": 78,
   "id": "ba1160bb-ea1c-4cab-bf43-02dfa9f45a8d",
   "metadata": {},
   "outputs": [
    {
     "data": {
      "text/plain": [
       "array([[307. ,   8. , 130. , ...,  12. ,  70. ,   1. ],\n",
       "       [350. ,   8. , 165. , ...,  11.5,  70. ,   1. ],\n",
       "       [318. ,   8. , 150. , ...,  11. ,  70. ,   1. ],\n",
       "       ...,\n",
       "       [135. ,   4. ,  84. , ...,  11.6,  82. ,   1. ],\n",
       "       [120. ,   4. ,  79. , ...,  18.6,  82. ,   1. ],\n",
       "       [119. ,   4. ,  82. , ...,  19.4,  82. ,   1. ]])"
      ]
     },
     "execution_count": 78,
     "metadata": {},
     "output_type": "execute_result"
    }
   ],
   "source": [
    "it_imp = IterativeImputer(random_state=24)\n",
    "X_imputed = it_imp.fit_transform(X)\n",
    "X_train,X_test,Y_train,Y_test = train_test_split(X_imputed,y,test_size=0.3,random_state=24)\n",
    "X_imputed"
   ]
  },
  {
   "cell_type": "code",
   "execution_count": 74,
   "id": "3ea91228-d40e-4c72-aff5-cda5dcaf4930",
   "metadata": {},
   "outputs": [],
   "source": [
    "alpha = [0.01,0.1,0.5,1,2.5,3,5]\n",
    "ratios = [0.001,0.3,0.5,0.7,0.9]\n",
    "scores = []\n",
    "for a in alpha:\n",
    "    for r in ratios:\n",
    "        e1 = ElasticNet(alpha = a, l1_ratio=r)\n",
    "        e1.fit(X_train,Y_train)\n",
    "        y_pred = e1.predict(X_test)\n",
    "        scores.append([a,r,r2_score(Y_test,y_pred)])"
   ]
  },
  {
   "cell_type": "code",
   "execution_count": 76,
   "id": "078e8b98-adfc-4ca8-95c5-74a0504892d5",
   "metadata": {},
   "outputs": [
    {
     "data": {
      "text/plain": [
       "Alpha       0.100000\n",
       "Ratios      0.900000\n",
       "r2_score    0.762388\n",
       "Name: 9, dtype: float64"
      ]
     },
     "execution_count": 76,
     "metadata": {},
     "output_type": "execute_result"
    }
   ],
   "source": [
    "df = pd.DataFrame(scores, columns = ['Alpha','Ratios','r2_score'])\n",
    "df.sort_values('r2_score',ascending=False).iloc[0]"
   ]
  },
  {
   "cell_type": "code",
   "execution_count": 123,
   "id": "337d9055-3c78-4215-a2a6-f8c76bd0162b",
   "metadata": {},
   "outputs": [
    {
     "data": {
      "text/plain": [
       "2.0"
      ]
     },
     "execution_count": 123,
     "metadata": {},
     "output_type": "execute_result"
    }
   ],
   "source": [
    "x = np.log10(100)\n",
    "x"
   ]
  },
  {
   "cell_type": "code",
   "execution_count": null,
   "id": "73e29bba-c01d-4a8d-b5b5-15d0668893cd",
   "metadata": {},
   "outputs": [],
   "source": []
  }
 ],
 "metadata": {
  "kernelspec": {
   "display_name": "Python 3 (ipykernel)",
   "language": "python",
   "name": "python3"
  },
  "language_info": {
   "codemirror_mode": {
    "name": "ipython",
    "version": 3
   },
   "file_extension": ".py",
   "mimetype": "text/x-python",
   "name": "python",
   "nbconvert_exporter": "python",
   "pygments_lexer": "ipython3",
   "version": "3.12.4"
  }
 },
 "nbformat": 4,
 "nbformat_minor": 5
}
